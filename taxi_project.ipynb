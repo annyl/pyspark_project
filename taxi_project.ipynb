{
 "cells": [
  {
   "cell_type": "markdown",
   "metadata": {},
   "source": [
    "# Выпускной проект <br>\n",
    "Выполнила: Лепигина Анастасия\n",
    "### 1. Загрузка датасета в PySpark  -  Spark DataFrame  или другой RDD  "
   ]
  },
  {
   "cell_type": "code",
   "execution_count": 1,
   "metadata": {},
   "outputs": [],
   "source": [
    "from pyspark.sql import SparkSession"
   ]
  },
  {
   "cell_type": "code",
   "execution_count": 13,
   "metadata": {},
   "outputs": [
    {
     "name": "stdout",
     "output_type": "stream",
     "text": [
      "Installing /home/alepigin/.local/lib/python3.5/site-packages/sparkmonitor/static -> sparkmonitor\n",
      "- Validating: \u001b[32mOK\u001b[0m\n",
      "\n",
      "    To initialize this nbextension in the browser every time the notebook (or other app) loads:\n",
      "    \n",
      "          jupyter nbextension enable sparkmonitor --user --py\n",
      "    \n",
      "Enabling notebook extension sparkmonitor/module...\n",
      "      - Validating: \u001b[32mOK\u001b[0m\n",
      "Enabling: sparkmonitor.serverextension\n",
      "- Writing config: /home/alepigin/.jupyter\n",
      "    - Validating...\n",
      "      sparkmonitor.serverextension  \u001b[32mOK\u001b[0m\n",
      "/bin/sh: 1: python_path: not found\n",
      "/bin/sh: 1: ipython: not found\n"
     ]
    }
   ],
   "source": [
    "import sparkmonitor\n",
    "!jupyter nbextension install sparkmonitor --py --user --symlink \n",
    "!jupyter nbextension enable sparkmonitor --py --user            \n",
    "!jupyter serverextension enable --py --user sparkmonitor\n",
    "!python_path = {ipython_path[0]}\n",
    "!ipython profile create && echo \"c.InteractiveShellApp.extensions.append('sparkmonitor.kernelextension')\" >> {ipython_path[0]}/ipython_kernel_config.py"
   ]
  },
  {
   "cell_type": "code",
   "execution_count": 14,
   "metadata": {},
   "outputs": [
    {
     "ename": "NameError",
     "evalue": "name 'conf' is not defined",
     "output_type": "error",
     "traceback": [
      "\u001b[0;31m---------------------------------------------------------------------------\u001b[0m",
      "\u001b[0;31mNameError\u001b[0m                                 Traceback (most recent call last)",
      "\u001b[0;32m<ipython-input-14-e68742c364f8>\u001b[0m in \u001b[0;36m<module>\u001b[0;34m\u001b[0m\n\u001b[1;32m      1\u001b[0m \u001b[0;32mfrom\u001b[0m \u001b[0mpyspark\u001b[0m \u001b[0;32mimport\u001b[0m \u001b[0mSparkContext\u001b[0m\u001b[0;34m\u001b[0m\u001b[0m\n\u001b[0;32m----> 2\u001b[0;31m \u001b[0msc\u001b[0m\u001b[0;34m=\u001b[0m\u001b[0mSparkContext\u001b[0m\u001b[0;34m.\u001b[0m\u001b[0mgetOrCreate\u001b[0m\u001b[0;34m(\u001b[0m\u001b[0mconf\u001b[0m\u001b[0;34m=\u001b[0m\u001b[0mconf\u001b[0m\u001b[0;34m)\u001b[0m \u001b[0;31m#Start the spark context\u001b[0m\u001b[0;34m\u001b[0m\u001b[0m\n\u001b[0m",
      "\u001b[0;31mNameError\u001b[0m: name 'conf' is not defined"
     ]
    }
   ],
   "source": [
    "from pyspark import SparkContext\n",
    "sc=SparkContext.getOrCreate(conf=conf) #Start the spark context"
   ]
  },
  {
   "cell_type": "code",
   "execution_count": 7,
   "metadata": {},
   "outputs": [],
   "source": [
    "spark = SparkSession.builder.appName('TaxiProject').getOrCreate()"
   ]
  },
  {
   "cell_type": "code",
   "execution_count": 10,
   "metadata": {},
   "outputs": [
    {
     "name": "stdout",
     "output_type": "stream",
     "text": [
      "+---------+-------------------+-------------------+---------------+-------------+------------------+---------------+---------+------------------+------------------+----------------+------------+-----------+---------+-------+----------+------------+------------+\n",
      "|vendor_id|    pickup_datetime|   dropoff_datetime|passenger_count|trip_distance|  pickup_longitude|pickup_latitude|rate_code|store_and_fwd_flag| dropoff_longitude|dropoff_latitude|payment_type|fare_amount|surcharge|mta_tax|tip_amount|tolls_amount|total_amount|\n",
      "+---------+-------------------+-------------------+---------------+-------------+------------------+---------------+---------+------------------+------------------+----------------+------------+-----------+---------+-------+----------+------------+------------+\n",
      "|      CMT|2014-01-09 20:45:25|2014-01-09 20:52:31|              1|          0.7|         -73.99477|      40.736828|        1|                 N|-73.98222699999998|        40.73179|         CRD|        6.5|      0.5|    0.5|       1.4|         0.0|         8.9|\n",
      "|      CMT|2014-01-09 20:46:12|2014-01-09 20:55:12|              1|          1.4|        -73.982392|      40.773382|        1|                 N|-73.96044899999998|       40.763995|         CRD|        8.5|      0.5|    0.5|       1.9|         0.0|        11.4|\n",
      "|      CMT|2014-01-09 20:44:47|2014-01-09 20:59:46|              2|          2.3|-73.98856999999998|      40.739406|        1|                 N|        -73.986626|       40.765217|         CRD|       11.5|      0.5|    0.5|       1.5|         0.0|        14.0|\n",
      "|      CMT|2014-01-09 20:44:57|2014-01-09 20:51:40|              1|          1.7|-73.96021299999998|      40.770464|        1|                 N|-73.97986299999998|        40.77705|         CRD|        7.5|      0.5|    0.5|       1.7|         0.0|        10.2|\n",
      "|      CMT|2014-01-09 20:47:09|2014-01-09 20:53:32|              1|          0.9|        -73.995371|      40.717248|        1|                 N|        -73.984367|       40.720524|         CRD|        6.0|      0.5|    0.5|      1.75|         0.0|        8.75|\n",
      "|      CMT|2014-01-09 20:45:07|2014-01-09 20:51:01|              1|          0.9|        -73.983811|      40.749655|        1|                 N|-73.98974699999998|       40.756575|         CRD|        6.0|      0.5|    0.5|       1.4|         0.0|         8.4|\n",
      "|      CMT|2014-01-09 20:44:04|2014-01-09 21:05:45|              1|          3.6|        -73.984138|      40.726317|        1|                 N|        -73.962869|       40.758443|         CRD|       16.5|      0.5|    0.5|      5.25|         0.0|       22.75|\n",
      "|      CMT|2014-01-09 20:43:23|2014-01-09 20:52:07|              1|          2.1|        -73.979906|       40.74585|        1|                 N|         -73.95909|       40.773639|         CRD|        9.0|      0.5|    0.5|       2.0|         0.0|        12.0|\n",
      "|      CMT|2014-01-09 20:43:04|2014-01-09 20:54:29|              1|          3.4|        -73.981147|      40.758918|        1|                 N|         -73.94251|       40.785975|         CRD|       12.0|      0.5|    0.5|       2.6|         0.0|        15.6|\n",
      "|      CMT|2014-01-09 20:50:23|2014-01-09 20:58:10|              1|          2.3|-73.95519299999998|      40.765468|        1|                 N|        -73.979023|       40.740578|         CRD|        9.0|      0.5|    0.5|       1.0|         0.0|        11.0|\n",
      "|      CMT|2014-01-09 20:51:36|2014-01-09 21:15:07|              1|          9.5|-73.88527499999998|      40.773048|        1|                 N|        -73.980879|       40.777384|         CRD|       28.5|      0.5|    0.5|      6.96|        5.33|       41.79|\n",
      "|      CMT|2014-01-09 20:48:04|2014-01-09 21:01:37|              1|          3.3|        -73.991782|      40.748911|        1|                 N|        -73.988359|       40.714205|         CRD|       12.5|      0.5|    0.5|      4.05|         0.0|       17.55|\n",
      "|      CMT|2014-01-09 20:47:49|2014-01-09 20:56:11|              2|          1.8|        -73.965717|      40.758675|        1|                 N|        -73.984059|       40.737448|         CRD|        8.5|      0.5|    0.5|       1.9|         0.0|        11.4|\n",
      "|      CMT|2014-01-09 20:48:47|2014-01-09 20:56:52|              2|          1.4|-73.97700899999998|       40.75162|        1|                 N|-73.98264299999998|       40.766574|         CRD|        7.5|      0.5|    0.5|       1.7|         0.0|        10.2|\n",
      "|      CMT|2014-01-09 20:47:51|2014-01-09 21:02:31|              3|          2.6|-73.97765599999998|       40.75368|        1|                 N|-73.95224899999998|       40.777676|         CRD|       12.5|      0.5|    0.5|       1.0|         0.0|        14.5|\n",
      "|      CMT|2014-01-09 20:49:49|2014-01-09 21:20:38|              1|         11.2|-73.78826599999998|      40.647542|        1|                 N|        -73.949225|         40.6527|         CRD|       35.5|      0.5|    0.5|       0.0|         0.0|        36.5|\n",
      "|      CMT|2014-01-09 16:51:35|2014-01-09 17:00:17|              1|          1.7|        -74.007503|      40.725992|        1|                 N|-73.98818199999998|       40.734583|         CRD|        8.5|      1.0|    0.5|       2.0|         0.0|        12.0|\n",
      "|      CMT|2014-01-09 16:43:29|2014-01-09 16:59:15|              1|          4.7|        -74.014866|      40.709353|        1|                 N|        -73.986084|       40.759081|         CRD|       16.0|      1.0|    0.5|       4.0|         0.0|        21.5|\n",
      "|      CMT|2014-01-09 16:46:50|2014-01-09 16:56:41|              1|          1.6|        -73.967675|      40.763109|        1|                 N|        -73.952591|       40.778186|         CRD|        9.0|      1.0|    0.5|       2.1|         0.0|        12.6|\n",
      "|      CMT|2014-01-09 16:47:00|2014-01-09 17:37:58|              1|         17.9|-73.78173099999998|      40.644729|        2|                 N|        -73.978604|       40.761822|         CRD|       52.0|      0.0|    0.5|     11.56|        5.33|       69.39|\n",
      "+---------+-------------------+-------------------+---------------+-------------+------------------+---------------+---------+------------------+------------------+----------------+------------+-----------+---------+-------+----------+------------+------------+\n",
      "only showing top 20 rows\n",
      "\n"
     ]
    }
   ],
   "source": [
    "data = spark.read.csv('taxi_l1.csv', inferSchema=True, sep=',', header='true')\n",
    "data.show()"
   ]
  },
  {
   "cell_type": "markdown",
   "metadata": {},
   "source": [
    "### 2. Визуализация данных на уровне описания"
   ]
  },
  {
   "cell_type": "code",
   "execution_count": 15,
   "metadata": {},
   "outputs": [
    {
     "name": "stdout",
     "output_type": "stream",
     "text": [
      "root\n",
      " |-- vendor_id: string (nullable = true)\n",
      " |-- pickup_datetime: timestamp (nullable = true)\n",
      " |-- dropoff_datetime: timestamp (nullable = true)\n",
      " |-- passenger_count: integer (nullable = true)\n",
      " |-- trip_distance: double (nullable = true)\n",
      " |-- pickup_longitude: double (nullable = true)\n",
      " |-- pickup_latitude: double (nullable = true)\n",
      " |-- rate_code: integer (nullable = true)\n",
      " |-- store_and_fwd_flag: string (nullable = true)\n",
      " |-- dropoff_longitude: double (nullable = true)\n",
      " |-- dropoff_latitude: double (nullable = true)\n",
      " |-- payment_type: string (nullable = true)\n",
      " |-- fare_amount: double (nullable = true)\n",
      " |-- surcharge: double (nullable = true)\n",
      " |-- mta_tax: double (nullable = true)\n",
      " |-- tip_amount: double (nullable = true)\n",
      " |-- tolls_amount: double (nullable = true)\n",
      " |-- total_amount: double (nullable = true)\n",
      "\n"
     ]
    }
   ],
   "source": [
    "data.printSchema()"
   ]
  },
  {
   "cell_type": "code",
   "execution_count": 18,
   "metadata": {},
   "outputs": [
    {
     "name": "stdout",
     "output_type": "stream",
     "text": [
      "+-------+------------------+\n",
      "|summary|        tip_amount|\n",
      "+-------+------------------+\n",
      "|  count|            100000|\n",
      "|   mean| 2.468523599999998|\n",
      "| stddev|2.4117708955519728|\n",
      "|    min|               0.0|\n",
      "|    max|             105.5|\n",
      "+-------+------------------+\n",
      "\n"
     ]
    }
   ],
   "source": [
    "data.describe('tip_amount').show()"
   ]
  },
  {
   "cell_type": "code",
   "execution_count": 20,
   "metadata": {},
   "outputs": [
    {
     "data": {
      "text/plain": [
       "99950"
      ]
     },
     "execution_count": 20,
     "metadata": {},
     "output_type": "execute_result"
    }
   ],
   "source": [
    "data.filter(data.payment_type=='CRD').count()"
   ]
  },
  {
   "cell_type": "code",
   "execution_count": 23,
   "metadata": {},
   "outputs": [
    {
     "data": {
      "text/plain": [
       "99862"
      ]
     },
     "execution_count": 23,
     "metadata": {},
     "output_type": "execute_result"
    }
   ],
   "source": [
    "data.filter(data.vendor_id=='CMT').count()"
   ]
  },
  {
   "cell_type": "code",
   "execution_count": null,
   "metadata": {},
   "outputs": [],
   "source": []
  }
 ],
 "metadata": {
  "kernelspec": {
   "display_name": "Python 3",
   "language": "python",
   "name": "python3"
  },
  "language_info": {
   "codemirror_mode": {
    "name": "ipython",
    "version": 3
   },
   "file_extension": ".py",
   "mimetype": "text/x-python",
   "name": "python",
   "nbconvert_exporter": "python",
   "pygments_lexer": "ipython3",
   "version": "3.5.2"
  }
 },
 "nbformat": 4,
 "nbformat_minor": 2
}
